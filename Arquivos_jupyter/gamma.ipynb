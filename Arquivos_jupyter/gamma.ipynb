{
 "cells": [
  {
   "cell_type": "code",
   "execution_count": 4,
   "metadata": {},
   "outputs": [],
   "source": [
    "import numpy as np\n",
    "from PIL import Image"
   ]
  },
  {
   "cell_type": "code",
   "execution_count": 5,
   "metadata": {},
   "outputs": [],
   "source": [
    "def correcao_gamma( I, gamma ):\n",
    "    return I**( 1 / gamma )"
   ]
  },
  {
   "cell_type": "code",
   "execution_count": 6,
   "metadata": {},
   "outputs": [],
   "source": [
    "def ler_imagem( caminho ):\n",
    "    return np.array( Image.open( caminho ) ) / 255\n",
    "\n",
    "def mostrar_imagem( img ):\n",
    "    img_mostrar = Image.fromarray( np.uint8( img * 255 ) ).convert( \"RGB\" )\n",
    "    img_mostrar.show()\n",
    "\n",
    "def salvar_imagem( img, caminho, formato ):\n",
    "    img_salvar = Image.fromarray( np.uint8( img * 255 ) ).convert( \"RGB\" )\n",
    "    img_salvar.save( caminho, formato )"
   ]
  },
  {
   "cell_type": "code",
   "execution_count": 8,
   "metadata": {},
   "outputs": [],
   "source": [
    "imagem = ler_imagem( \"Imagens/Pinguim_1.jpg\" )\n",
    "\n",
    "imagem_neg = correcao_gamma(imagem, 2)\n",
    "imagens_juntas = np.hstack( ( imagem, imagem_neg ) )\n",
    "\n",
    "mostrar_imagem( imagens_juntas)"
   ]
  },
  {
   "cell_type": "code",
   "execution_count": 9,
   "metadata": {},
   "outputs": [],
   "source": [
    "salvar_imagem( imagens_juntas, \"Imagens/Pinguins_normais_e_negativos.jpg\", 'JPEG' )"
   ]
  }
 ],
 "metadata": {
  "kernelspec": {
   "display_name": "Python 3",
   "language": "python",
   "name": "python3"
  },
  "language_info": {
   "codemirror_mode": {
    "name": "ipython",
    "version": 3
   },
   "file_extension": ".py",
   "mimetype": "text/x-python",
   "name": "python",
   "nbconvert_exporter": "python",
   "pygments_lexer": "ipython3",
   "version": "3.9.1"
  }
 },
 "nbformat": 4,
 "nbformat_minor": 4
}
