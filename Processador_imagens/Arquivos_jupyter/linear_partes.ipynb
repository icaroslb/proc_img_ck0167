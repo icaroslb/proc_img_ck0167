{
 "cells": [
  {
   "cell_type": "code",
   "execution_count": 1,
   "metadata": {},
   "outputs": [],
   "source": [
    "import numpy as np"
   ]
  },
  {
   "cell_type": "code",
   "execution_count": 52,
   "metadata": {},
   "outputs": [],
   "source": [
    "def pos_x ( ponto ):\n",
    "    return ponto[0]\n",
    "\n",
    "def linear_partes ( M, pontos ):\n",
    "    qtd_pontos = len( pontos )\n",
    "    tam_img = M.shape\n",
    "    pontos.sort( key = pos_x )\n",
    "    \n",
    "    for i in range( tam_img[0] ):\n",
    "        for j in range( tam_img[1] ):\n",
    "            for k in range( tam_img[2] ):\n",
    "                cor = M[i, j, k]\n",
    "                nova_cor = 0\n",
    "                \n",
    "                l = 1\n",
    "                while ( l < ( qtd_pontos - 1 ) and ( cor > pontos[l][0] ) ):\n",
    "                    l += 1\n",
    "                \n",
    "                if ( pontos[l][0] == cor ):\n",
    "                    nova_cor = pontos[l][1]\n",
    "                else:\n",
    "                    vetor = pontos[l] - pontos[l-1]\n",
    "                    tam = vetor[0]\n",
    "                    dist = cor - pontos[l-1][0]\n",
    "                    \n",
    "                    novo_ponto = pontos[l-1] + ( vetor * ( dist / tam ) )\n",
    "                    \n",
    "                    nova_cor = novo_ponto[1]\n",
    "                \n",
    "                M[i, j, k] = nova_cor\n",
    "    \n",
    "    return M"
   ]
  },
  {
   "cell_type": "code",
   "execution_count": 53,
   "metadata": {},
   "outputs": [
    {
     "name": "stdout",
     "output_type": "stream",
     "text": [
      "[[[1.  ]\n",
      "  [0.52]]\n",
      "\n",
      " [[0.68]\n",
      "  [0.8 ]]]\n"
     ]
    }
   ],
   "source": [
    "M = np.array( [[[0.5], [0.2]], [[0.3], [1.0]]] )\n",
    "\n",
    "M = linear_partes( M, [np.array([0, 0.2]), np.array([1, 0.8]), np.array([0.5, 1.0])] )\n",
    "\n",
    "print( M )"
   ]
  },
  {
   "cell_type": "code",
   "execution_count": null,
   "metadata": {},
   "outputs": [],
   "source": []
  }
 ],
 "metadata": {
  "kernelspec": {
   "display_name": "Python 3",
   "language": "python",
   "name": "python3"
  },
  "language_info": {
   "codemirror_mode": {
    "name": "ipython",
    "version": 3
   },
   "file_extension": ".py",
   "mimetype": "text/x-python",
   "name": "python",
   "nbconvert_exporter": "python",
   "pygments_lexer": "ipython3",
   "version": "3.9.1"
  }
 },
 "nbformat": 4,
 "nbformat_minor": 4
}
