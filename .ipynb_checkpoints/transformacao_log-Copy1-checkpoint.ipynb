{
 "cells": [
  {
   "cell_type": "code",
   "execution_count": 166,
   "metadata": {},
   "outputs": [],
   "source": [
    "import numpy as np\n",
    "from PIL import Image"
   ]
  },
  {
   "cell_type": "code",
   "execution_count": 186,
   "metadata": {},
   "outputs": [],
   "source": [
    "def transform_log( I , const):\n",
    "    logArray = I + 1\n",
    "    logArray = np.log(logArray)\n",
    "    logImg = Image.fromarray( np.uint8( logArray * 255 ) ).convert( \"RGB\" )\n",
    "    logImg = Image.eval(logImg, (lambda x: x * const))\n",
    "    logArray = np.array( logImg ) / 255\n",
    "    #print(logArray)\n",
    "    return logArray"
   ]
  },
  {
   "cell_type": "code",
   "execution_count": 189,
   "metadata": {},
   "outputs": [],
   "source": [
    "def ler_imagem( caminho ):\n",
    "    return np.array( Image.open( caminho ) ) / 255\n",
    "\n",
    "def mostrar_imagem( img ):\n",
    "    img_mostrar = Image.fromarray( np.uint8( img * 255 ) ).convert( \"RGB\" )\n",
    "    img_mostrar.show()\n",
    "\n",
    "def salvar_imagem( img, caminho, formato ):\n",
    "    img_salvar = Image.fromarray( np.uint8( img * 255 ) ).convert( \"RGB\" )\n",
    "    img_salvar.save( caminho, formato )"
   ]
  },
  {
   "cell_type": "code",
   "execution_count": 191,
   "metadata": {},
   "outputs": [
    {
     "name": "stdout",
     "output_type": "stream",
     "text": [
      "[[[0.60392157 0.62745098 0.65882353]\n",
      "  [0.60392157 0.62745098 0.65882353]\n",
      "  [0.60392157 0.62745098 0.65882353]\n",
      "  ...\n",
      "  [0.60784314 0.62745098 0.6627451 ]\n",
      "  [0.60784314 0.62745098 0.6627451 ]\n",
      "  [0.60784314 0.62745098 0.6627451 ]]\n",
      "\n",
      " [[0.60392157 0.62745098 0.65882353]\n",
      "  [0.60392157 0.62745098 0.65882353]\n",
      "  [0.60392157 0.62745098 0.65882353]\n",
      "  ...\n",
      "  [0.60784314 0.62745098 0.6627451 ]\n",
      "  [0.60784314 0.62745098 0.6627451 ]\n",
      "  [0.60784314 0.62745098 0.6627451 ]]\n",
      "\n",
      " [[0.60392157 0.62745098 0.65882353]\n",
      "  [0.60392157 0.62745098 0.65882353]\n",
      "  [0.60392157 0.62745098 0.65882353]\n",
      "  ...\n",
      "  [0.60392157 0.62745098 0.6627451 ]\n",
      "  [0.60392157 0.62745098 0.6627451 ]\n",
      "  [0.60392157 0.62745098 0.6627451 ]]\n",
      "\n",
      " ...\n",
      "\n",
      " [[0.26666667 0.27058824 0.30980392]\n",
      "  [0.28235294 0.29019608 0.32156863]\n",
      "  [0.31372549 0.32156863 0.34509804]\n",
      "  ...\n",
      "  [0.01176471 0.         0.01176471]\n",
      "  [0.01176471 0.         0.01176471]\n",
      "  [0.01960784 0.         0.01176471]]\n",
      "\n",
      " [[0.25490196 0.2627451  0.30588235]\n",
      "  [0.2745098  0.27843137 0.31764706]\n",
      "  [0.30588235 0.31372549 0.34509804]\n",
      "  ...\n",
      "  [0.09803922 0.0627451  0.09019608]\n",
      "  [0.09803922 0.0627451  0.09019608]\n",
      "  [0.12156863 0.08627451 0.11764706]]\n",
      "\n",
      " [[0.21960784 0.22352941 0.27058824]\n",
      "  [0.23921569 0.24313725 0.28235294]\n",
      "  [0.26666667 0.2745098  0.30980392]\n",
      "  ...\n",
      "  [0.22745098 0.19607843 0.22352941]\n",
      "  [0.23921569 0.20392157 0.22745098]\n",
      "  [0.27058824 0.23921569 0.2627451 ]]]\n"
     ]
    }
   ],
   "source": [
    "imagem = ler_imagem( \"Imagens/Pinguim_1.jpg\" )\n",
    "\n",
    "imagem_log = transform_log(imagem, 1)\n",
    "imagens_juntas = np.hstack( ( imagem, imagem_log ) )\n",
    "\n",
    "mostrar_imagem( imagens_juntas)"
   ]
  },
  {
   "cell_type": "code",
   "execution_count": 192,
   "metadata": {},
   "outputs": [],
   "source": [
    "salvar_imagem( imagens_juntas, \"Imagens/Pinguins_normais_e_negativos.jpg\", 'JPEG' )"
   ]
  },
  {
   "cell_type": "code",
   "execution_count": null,
   "metadata": {},
   "outputs": [],
   "source": []
  }
 ],
 "metadata": {
  "kernelspec": {
   "display_name": "Python 3",
   "language": "python",
   "name": "python3"
  },
  "language_info": {
   "codemirror_mode": {
    "name": "ipython",
    "version": 3
   },
   "file_extension": ".py",
   "mimetype": "text/x-python",
   "name": "python",
   "nbconvert_exporter": "python",
   "pygments_lexer": "ipython3",
   "version": "3.9.1"
  }
 },
 "nbformat": 4,
 "nbformat_minor": 4
}
