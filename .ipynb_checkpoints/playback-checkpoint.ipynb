{
 "cells": [
  {
   "cell_type": "code",
   "execution_count": 11,
   "metadata": {},
   "outputs": [],
   "source": [
    "import numpy as np\n",
    "from PIL import Image"
   ]
  },
  {
   "cell_type": "code",
   "execution_count": 12,
   "metadata": {},
   "outputs": [],
   "source": [
    "def transform_log( I ):\n",
    "    log = double(I)/255\n",
    "    log = log + 1\n",
    "    return log"
   ]
  },
  {
   "cell_type": "code",
   "execution_count": 6,
   "metadata": {},
   "outputs": [],
   "source": [
    "def ler_imagem( caminho ):\n",
    "    return np.array( Image.open( caminho ) ) / 255\n",
    "\n",
    "def mostrar_imagem( img ):\n",
    "    img_mostrar = Image.fromarray( np.uint8( img * 255 ) ).convert( \"RGB\" )\n",
    "    img_mostrar.show()\n",
    "\n",
    "def salvar_imagem( img, caminho, formato ):\n",
    "    img_salvar = Image.fromarray( np.uint8( img * 255 ) ).convert( \"RGB\" )\n",
    "    img_salvar.save( caminho, formato )"
   ]
  },
  {
   "cell_type": "code",
   "execution_count": 8,
   "metadata": {},
   "outputs": [],
   "source": [
    "imagem = ler_imagem( \"Imagens/Pinguim_1.jpg\" )\n",
    "\n",
    "imagem_neg = transform_log(imagem)\n",
    "imagens_juntas = np.hstack( ( imagem, imagem_neg ) )\n",
    "\n",
    "mostrar_imagem( imagens_juntas)"
   ]
  },
  {
   "cell_type": "code",
   "execution_count": 9,
   "metadata": {},
   "outputs": [],
   "source": [
    "salvar_imagem( imagens_juntas, \"Imagens/Pinguins_normais_e_negativos.jpg\", 'JPEG' )"
   ]
  }
 ],
 "metadata": {
  "kernelspec": {
   "display_name": "Python 3",
   "language": "python",
   "name": "python3"
  },
  "language_info": {
   "codemirror_mode": {
    "name": "ipython",
    "version": 3
   },
   "file_extension": ".py",
   "mimetype": "text/x-python",
   "name": "python",
   "nbconvert_exporter": "python",
   "pygments_lexer": "ipython3",
   "version": "3.9.1"
  }
 },
 "nbformat": 4,
 "nbformat_minor": 4
}
